{
 "cells": [
  {
   "cell_type": "markdown",
   "metadata": {},
   "source": [
    "# [Lab Session 2](otsu.ipynb)"
   ]
  },
  {
   "cell_type": "code",
   "execution_count": 11,
   "metadata": {},
   "outputs": [],
   "source": [
    "import numpy as np\n",
    "import matplotlib.pyplot as plt"
   ]
  },
  {
   "cell_type": "markdown",
   "metadata": {},
   "source": [
    "**[Task 2.1.]()** Implement Otsu thresholding as a re-usable function:"
   ]
  },
  {
   "cell_type": "code",
   "execution_count": 12,
   "metadata": {},
   "outputs": [],
   "source": [
    "def otsu_thresholding(imgf):\n",
    "    img8 = (imgf * 255).round().astype(np.uint8)\n",
    "    \n",
    "    h = np.zeros(256)\n",
    "\n",
    "    for x in img8.flatten() :\n",
    "        h[x] += 1\n",
    "    \n",
    "    otsu = []\n",
    "\n",
    "\n",
    "    for T in range(256) : \n",
    "\n",
    "        x1 = 0\n",
    "        x2 = 0\n",
    "        y1 = 0\n",
    "        y2 = 0\n",
    "\n",
    "        if sum(h[:T]) > 0 :\n",
    "            for I in range(0, T) :\n",
    "                x1 += I * h[I]\n",
    "            m1 = 1 / (sum(h[:T])) * x1\n",
    "            for I in range(0, T) :\n",
    "                y1 += (I-m1) ** 2 * h[I]\n",
    "            s1 = 1 / sum(h[:T]) * y1\n",
    "        else :\n",
    "            s1 = 0\n",
    "\n",
    "        if sum(h[T:256]) > 0 :\n",
    "            for I in range(T, 256) :\n",
    "                x2 += I * h[I]\n",
    "            m2 = 1 / sum(h[T:256]) * x2\n",
    "            for I in range(T, 256) :\n",
    "                y2 += (I-m2) ** 2 * h[I]\n",
    "            s2 = 1 / sum(h[T:256]) * y2\n",
    "        else : \n",
    "            s2 = 0\n",
    "\n",
    "        otsu.append(sum(h[:T]) * s1 + sum(h[T:256]) * s2)\n",
    "\n",
    "    #print(otsu.index(min(otsu)))\n",
    "    thres = otsu.index(min(otsu))\n",
    "    \n",
    "    seg = img8 >= thres\n",
    "    \n",
    "    return seg"
   ]
  },
  {
   "cell_type": "markdown",
   "metadata": {},
   "source": [
    "**[Task 2.2.]()** Implement a re-usable function to compute the Dice coefficient:"
   ]
  },
  {
   "cell_type": "code",
   "execution_count": 13,
   "metadata": {},
   "outputs": [],
   "source": [
    "def compute_dice(bin1, bin2):\n",
    "    assert bin1.dtype == bool\n",
    "    assert bin2.dtype == bool\n",
    "    \n",
    "    dice = 2 * (bin1 * bin2).sum() / (bin1.sum() + bin2.sum())\n",
    "\n",
    "    \n",
    "    return dice"
   ]
  },
  {
   "cell_type": "markdown",
   "metadata": {},
   "source": [
    "**[Task 2.3.]()** Test your implementations from above:"
   ]
  },
  {
   "cell_type": "code",
   "execution_count": 14,
   "metadata": {},
   "outputs": [
    {
     "data": {
      "text/plain": [
       "0.8943783223933183"
      ]
     },
     "execution_count": 14,
     "metadata": {},
     "output_type": "execute_result"
    }
   ],
   "source": [
    "img = plt.imread('data/NIH3T3/im/dna-0.png')\n",
    "\n",
    "ground = plt.imread('data/NIH3T3/gt/0.png')\n",
    "binground = ground > 0.5\n",
    "\n",
    "binimg = otsu_thresholding(img)\n",
    "\n",
    "#print(binimg)\n",
    "#print(binground)\n",
    "\n",
    "compute_dice(binimg, binground)"
   ]
  },
  {
   "cell_type": "markdown",
   "metadata": {},
   "source": [
    "The result should be the same as in your [otsu.ipynb](otsu.ipynb) notebook."
   ]
  },
  {
   "cell_type": "markdown",
   "metadata": {},
   "source": [
    "**[Task 2.4.]()** Perform batch processing:"
   ]
  },
  {
   "cell_type": "code",
   "execution_count": 15,
   "metadata": {},
   "outputs": [
    {
     "name": "stdout",
     "output_type": "stream",
     "text": [
      "image: 28, Dice: 0.75\n",
      "image: 29, Dice: 0.65\n",
      "image: 33, Dice: 0.43\n",
      "image: 44, Dice: 0.58\n",
      "image: 46, Dice: 0.08\n",
      "image: 49, Dice: 0.8\n",
      "\n",
      "Average Dice: 0.55\n"
     ]
    }
   ],
   "source": [
    "seq = [28, 29, 33, 44, 46, 49]\n",
    "\n",
    "all = []\n",
    "\n",
    "for i in seq :\n",
    "    img = plt.imread(f'data/NIH3T3/im/dna-{i}.png')\n",
    "    ground = plt.imread(f'data/NIH3T3/gt/{i}.png')\n",
    "\n",
    "    binground = ground > 0.5\n",
    "    binimg = otsu_thresholding(img)\n",
    "    \n",
    "    dice = 2 * (binimg * binground).sum() / (binimg.sum() + binground.sum())\n",
    "\n",
    "    all.append(dice)\n",
    "\n",
    "    print('image: ' + str(i) + ', Dice: ' + str(round(dice, 2)))\n",
    "\n",
    "print()\n",
    "print('Average Dice: ' + str(round(sum(all)/len(all), 2)))\n",
    "\n"
   ]
  }
 ],
 "metadata": {
  "kernelspec": {
   "display_name": "Python 3",
   "language": "python",
   "name": "python3"
  },
  "language_info": {
   "codemirror_mode": {
    "name": "ipython",
    "version": 3
   },
   "file_extension": ".py",
   "mimetype": "text/x-python",
   "name": "python",
   "nbconvert_exporter": "python",
   "pygments_lexer": "ipython3",
   "version": "3.12.7"
  }
 },
 "nbformat": 4,
 "nbformat_minor": 4
}
